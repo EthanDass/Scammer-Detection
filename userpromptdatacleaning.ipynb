{
 "cells": [
  {
   "cell_type": "code",
   "execution_count": 1,
   "metadata": {},
   "outputs": [],
   "source": [
    "import pandas as pd\n",
    "import numpy as np\n",
    "import seaborn as sns\n",
    "import sklearn\n",
    "%matplotlib inline"
   ]
  },
  {
   "cell_type": "code",
   "execution_count": 2,
   "metadata": {},
   "outputs": [],
   "source": [
    "mydaters = pd.read_csv(\"C:\\\\Users\\\\roons\\\\Downloads\\\\scammer_large_dataset\\\\New_Datasets\\\\Verified_Non_Scammers\\\\user_prompt_nonscammer.csv\")"
   ]
  },
  {
   "cell_type": "code",
   "execution_count": 3,
   "metadata": {},
   "outputs": [],
   "source": [
    "myscammers = pd.read_csv(\"C:\\\\Users\\\\roons\\\\Downloads\\\\scammer_large_dataset\\\\New_Datasets\\\\Scammers\\\\user_prompt_scammer.csv\")"
   ]
  },
  {
   "cell_type": "code",
   "execution_count": 4,
   "metadata": {},
   "outputs": [
    {
     "name": "stdout",
     "output_type": "stream",
     "text": [
      "<class 'pandas.core.frame.DataFrame'>\n",
      "RangeIndex: 4911 entries, 0 to 4910\n",
      "Data columns (total 10 columns):\n",
      " #   Column      Non-Null Count  Dtype  \n",
      "---  ------      --------------  -----  \n",
      " 0   id          4852 non-null   object \n",
      " 1   user_id     4711 non-null   object \n",
      " 2   prompt_id   4686 non-null   object \n",
      " 3   text        4258 non-null   object \n",
      " 4   created_at  4631 non-null   object \n",
      " 5   deleted_at  4149 non-null   object \n",
      " 6   Unnamed: 6  0 non-null      float64\n",
      " 7   Unnamed: 7  14 non-null     object \n",
      " 8   Unnamed: 8  9 non-null      object \n",
      " 9   Unnamed: 9  4 non-null      object \n",
      "dtypes: float64(1), object(9)\n",
      "memory usage: 383.8+ KB\n"
     ]
    }
   ],
   "source": [
    "mydaters.info()"
   ]
  },
  {
   "cell_type": "code",
   "execution_count": 5,
   "metadata": {},
   "outputs": [
    {
     "name": "stdout",
     "output_type": "stream",
     "text": [
      "<class 'pandas.core.frame.DataFrame'>\n",
      "RangeIndex: 821 entries, 0 to 820\n",
      "Data columns (total 7 columns):\n",
      " #   Column      Non-Null Count  Dtype  \n",
      "---  ------      --------------  -----  \n",
      " 0   id          821 non-null    object \n",
      " 1   user_id     817 non-null    object \n",
      " 2   prompt_id   816 non-null    object \n",
      " 3   text        703 non-null    object \n",
      " 4   created_at  813 non-null    object \n",
      " 5   deleted_at  351 non-null    object \n",
      " 6   Unnamed: 6  0 non-null      float64\n",
      "dtypes: float64(1), object(6)\n",
      "memory usage: 45.0+ KB\n"
     ]
    }
   ],
   "source": [
    "myscammers.info()"
   ]
  },
  {
   "cell_type": "code",
   "execution_count": 6,
   "metadata": {},
   "outputs": [],
   "source": [
    "mydaters[\"scammer\"] = \"No\""
   ]
  },
  {
   "cell_type": "code",
   "execution_count": 7,
   "metadata": {},
   "outputs": [],
   "source": [
    "myscammers[\"scammer\"] = \"Yes\""
   ]
  },
  {
   "cell_type": "code",
   "execution_count": 8,
   "metadata": {},
   "outputs": [],
   "source": [
    "mydata = pd.concat([mydaters, myscammers], ignore_index=True)"
   ]
  },
  {
   "cell_type": "code",
   "execution_count": 9,
   "metadata": {},
   "outputs": [
    {
     "data": {
      "text/html": [
       "<div>\n",
       "<style scoped>\n",
       "    .dataframe tbody tr th:only-of-type {\n",
       "        vertical-align: middle;\n",
       "    }\n",
       "\n",
       "    .dataframe tbody tr th {\n",
       "        vertical-align: top;\n",
       "    }\n",
       "\n",
       "    .dataframe thead th {\n",
       "        text-align: right;\n",
       "    }\n",
       "</style>\n",
       "<table border=\"1\" class=\"dataframe\">\n",
       "  <thead>\n",
       "    <tr style=\"text-align: right;\">\n",
       "      <th></th>\n",
       "      <th>id</th>\n",
       "      <th>user_id</th>\n",
       "      <th>prompt_id</th>\n",
       "      <th>text</th>\n",
       "      <th>created_at</th>\n",
       "      <th>deleted_at</th>\n",
       "      <th>Unnamed: 6</th>\n",
       "      <th>Unnamed: 7</th>\n",
       "      <th>Unnamed: 8</th>\n",
       "      <th>Unnamed: 9</th>\n",
       "      <th>scammer</th>\n",
       "    </tr>\n",
       "  </thead>\n",
       "  <tbody>\n",
       "    <tr>\n",
       "      <th>0</th>\n",
       "      <td>33100</td>\n",
       "      <td>3893</td>\n",
       "      <td>1</td>\n",
       "      <td>Looking for a ski buddy❄️</td>\n",
       "      <td>12/30/2016 8:09</td>\n",
       "      <td>8/20/2017 4:04</td>\n",
       "      <td>NaN</td>\n",
       "      <td>NaN</td>\n",
       "      <td>NaN</td>\n",
       "      <td>NaN</td>\n",
       "      <td>No</td>\n",
       "    </tr>\n",
       "    <tr>\n",
       "      <th>1</th>\n",
       "      <td>324742</td>\n",
       "      <td>3893</td>\n",
       "      <td>1</td>\n",
       "      <td>if you ready come and get it</td>\n",
       "      <td>8/20/2017 4:04</td>\n",
       "      <td>10/29/2017 1:11</td>\n",
       "      <td>NaN</td>\n",
       "      <td>NaN</td>\n",
       "      <td>NaN</td>\n",
       "      <td>NaN</td>\n",
       "      <td>No</td>\n",
       "    </tr>\n",
       "    <tr>\n",
       "      <th>2</th>\n",
       "      <td>475790</td>\n",
       "      <td>3893</td>\n",
       "      <td>1</td>\n",
       "      <td>NaN</td>\n",
       "      <td>10/29/2017 1:12</td>\n",
       "      <td>1/6/2019 17:53</td>\n",
       "      <td>NaN</td>\n",
       "      <td>NaN</td>\n",
       "      <td>NaN</td>\n",
       "      <td>NaN</td>\n",
       "      <td>No</td>\n",
       "    </tr>\n",
       "    <tr>\n",
       "      <th>3</th>\n",
       "      <td>1663014</td>\n",
       "      <td>3893</td>\n",
       "      <td>1</td>\n",
       "      <td>I love all things outside</td>\n",
       "      <td>1/6/2019 17:53</td>\n",
       "      <td>NaN</td>\n",
       "      <td>NaN</td>\n",
       "      <td>NaN</td>\n",
       "      <td>NaN</td>\n",
       "      <td>NaN</td>\n",
       "      <td>No</td>\n",
       "    </tr>\n",
       "    <tr>\n",
       "      <th>4</th>\n",
       "      <td>4825</td>\n",
       "      <td>5099</td>\n",
       "      <td>1</td>\n",
       "      <td>I love being active by playing sports or hikin...</td>\n",
       "      <td>7/31/2016 20:58</td>\n",
       "      <td>12/14/2018 16:39</td>\n",
       "      <td>NaN</td>\n",
       "      <td>NaN</td>\n",
       "      <td>NaN</td>\n",
       "      <td>NaN</td>\n",
       "      <td>No</td>\n",
       "    </tr>\n",
       "  </tbody>\n",
       "</table>\n",
       "</div>"
      ],
      "text/plain": [
       "        id user_id prompt_id  \\\n",
       "0    33100    3893         1   \n",
       "1   324742    3893         1   \n",
       "2   475790    3893         1   \n",
       "3  1663014    3893         1   \n",
       "4     4825    5099         1   \n",
       "\n",
       "                                                text       created_at  \\\n",
       "0                          Looking for a ski buddy❄️  12/30/2016 8:09   \n",
       "1                       if you ready come and get it   8/20/2017 4:04   \n",
       "2                                                NaN  10/29/2017 1:12   \n",
       "3                         I love all things outside    1/6/2019 17:53   \n",
       "4  I love being active by playing sports or hikin...  7/31/2016 20:58   \n",
       "\n",
       "         deleted_at  Unnamed: 6 Unnamed: 7 Unnamed: 8 Unnamed: 9 scammer  \n",
       "0    8/20/2017 4:04         NaN        NaN        NaN        NaN      No  \n",
       "1   10/29/2017 1:11         NaN        NaN        NaN        NaN      No  \n",
       "2    1/6/2019 17:53         NaN        NaN        NaN        NaN      No  \n",
       "3               NaN         NaN        NaN        NaN        NaN      No  \n",
       "4  12/14/2018 16:39         NaN        NaN        NaN        NaN      No  "
      ]
     },
     "execution_count": 9,
     "metadata": {},
     "output_type": "execute_result"
    }
   ],
   "source": [
    "mydata.head()"
   ]
  },
  {
   "cell_type": "code",
   "execution_count": 10,
   "metadata": {},
   "outputs": [
    {
     "data": {
      "text/html": [
       "<div>\n",
       "<style scoped>\n",
       "    .dataframe tbody tr th:only-of-type {\n",
       "        vertical-align: middle;\n",
       "    }\n",
       "\n",
       "    .dataframe tbody tr th {\n",
       "        vertical-align: top;\n",
       "    }\n",
       "\n",
       "    .dataframe thead th {\n",
       "        text-align: right;\n",
       "    }\n",
       "</style>\n",
       "<table border=\"1\" class=\"dataframe\">\n",
       "  <thead>\n",
       "    <tr style=\"text-align: right;\">\n",
       "      <th></th>\n",
       "      <th>id</th>\n",
       "      <th>user_id</th>\n",
       "      <th>prompt_id</th>\n",
       "      <th>text</th>\n",
       "      <th>created_at</th>\n",
       "      <th>deleted_at</th>\n",
       "      <th>Unnamed: 6</th>\n",
       "      <th>Unnamed: 7</th>\n",
       "      <th>Unnamed: 8</th>\n",
       "      <th>Unnamed: 9</th>\n",
       "      <th>scammer</th>\n",
       "    </tr>\n",
       "  </thead>\n",
       "  <tbody>\n",
       "    <tr>\n",
       "      <th>5727</th>\n",
       "      <td>4641873</td>\n",
       "      <td>1202716</td>\n",
       "      <td>1</td>\n",
       "      <td>I'm Joseph by name cool and lovely man ❤️❤️</td>\n",
       "      <td>2/7/2021 21:15</td>\n",
       "      <td>NaN</td>\n",
       "      <td>NaN</td>\n",
       "      <td>NaN</td>\n",
       "      <td>NaN</td>\n",
       "      <td>NaN</td>\n",
       "      <td>Yes</td>\n",
       "    </tr>\n",
       "    <tr>\n",
       "      <th>5728</th>\n",
       "      <td>4652553</td>\n",
       "      <td>1205106</td>\n",
       "      <td>1</td>\n",
       "      <td>NaN</td>\n",
       "      <td>2/10/2021 7:50</td>\n",
       "      <td>2/10/2021 7:54</td>\n",
       "      <td>NaN</td>\n",
       "      <td>NaN</td>\n",
       "      <td>NaN</td>\n",
       "      <td>NaN</td>\n",
       "      <td>Yes</td>\n",
       "    </tr>\n",
       "    <tr>\n",
       "      <th>5729</th>\n",
       "      <td>4652559</td>\n",
       "      <td>1205106</td>\n",
       "      <td>1</td>\n",
       "      <td>Am simple and down to earth ... Looking for a ...</td>\n",
       "      <td>2/10/2021 7:54</td>\n",
       "      <td>2/10/2021 21:15</td>\n",
       "      <td>NaN</td>\n",
       "      <td>NaN</td>\n",
       "      <td>NaN</td>\n",
       "      <td>NaN</td>\n",
       "      <td>Yes</td>\n",
       "    </tr>\n",
       "    <tr>\n",
       "      <th>5730</th>\n",
       "      <td>4653824</td>\n",
       "      <td>1205106</td>\n",
       "      <td>1</td>\n",
       "      <td>Am simple and down to earth ... Looking for a ...</td>\n",
       "      <td>2/10/2021 21:15</td>\n",
       "      <td>NaN</td>\n",
       "      <td>NaN</td>\n",
       "      <td>NaN</td>\n",
       "      <td>NaN</td>\n",
       "      <td>NaN</td>\n",
       "      <td>Yes</td>\n",
       "    </tr>\n",
       "    <tr>\n",
       "      <th>5731</th>\n",
       "      <td>4660991</td>\n",
       "      <td>1206746</td>\n",
       "      <td>1</td>\n",
       "      <td>NaN</td>\n",
       "      <td>2/12/2021 21:59</td>\n",
       "      <td>NaN</td>\n",
       "      <td>NaN</td>\n",
       "      <td>NaN</td>\n",
       "      <td>NaN</td>\n",
       "      <td>NaN</td>\n",
       "      <td>Yes</td>\n",
       "    </tr>\n",
       "  </tbody>\n",
       "</table>\n",
       "</div>"
      ],
      "text/plain": [
       "           id  user_id prompt_id  \\\n",
       "5727  4641873  1202716         1   \n",
       "5728  4652553  1205106         1   \n",
       "5729  4652559  1205106         1   \n",
       "5730  4653824  1205106         1   \n",
       "5731  4660991  1206746         1   \n",
       "\n",
       "                                                   text       created_at  \\\n",
       "5727        I'm Joseph by name cool and lovely man ❤️❤️   2/7/2021 21:15   \n",
       "5728                                                NaN   2/10/2021 7:50   \n",
       "5729  Am simple and down to earth ... Looking for a ...   2/10/2021 7:54   \n",
       "5730  Am simple and down to earth ... Looking for a ...  2/10/2021 21:15   \n",
       "5731                                                NaN  2/12/2021 21:59   \n",
       "\n",
       "           deleted_at  Unnamed: 6 Unnamed: 7 Unnamed: 8 Unnamed: 9 scammer  \n",
       "5727              NaN         NaN        NaN        NaN        NaN     Yes  \n",
       "5728   2/10/2021 7:54         NaN        NaN        NaN        NaN     Yes  \n",
       "5729  2/10/2021 21:15         NaN        NaN        NaN        NaN     Yes  \n",
       "5730              NaN         NaN        NaN        NaN        NaN     Yes  \n",
       "5731              NaN         NaN        NaN        NaN        NaN     Yes  "
      ]
     },
     "execution_count": 10,
     "metadata": {},
     "output_type": "execute_result"
    }
   ],
   "source": [
    "mydata.tail()"
   ]
  },
  {
   "cell_type": "code",
   "execution_count": 11,
   "metadata": {},
   "outputs": [
    {
     "name": "stdout",
     "output_type": "stream",
     "text": [
      "<class 'pandas.core.frame.DataFrame'>\n",
      "RangeIndex: 5732 entries, 0 to 5731\n",
      "Data columns (total 11 columns):\n",
      " #   Column      Non-Null Count  Dtype  \n",
      "---  ------      --------------  -----  \n",
      " 0   id          5673 non-null   object \n",
      " 1   user_id     5528 non-null   object \n",
      " 2   prompt_id   5502 non-null   object \n",
      " 3   text        4961 non-null   object \n",
      " 4   created_at  5444 non-null   object \n",
      " 5   deleted_at  4500 non-null   object \n",
      " 6   Unnamed: 6  0 non-null      float64\n",
      " 7   Unnamed: 7  14 non-null     object \n",
      " 8   Unnamed: 8  9 non-null      object \n",
      " 9   Unnamed: 9  4 non-null      object \n",
      " 10  scammer     5732 non-null   object \n",
      "dtypes: float64(1), object(10)\n",
      "memory usage: 492.7+ KB\n"
     ]
    }
   ],
   "source": [
    "mydata.head()\n",
    "mydata.info()"
   ]
  },
  {
   "cell_type": "code",
   "execution_count": 12,
   "metadata": {},
   "outputs": [],
   "source": [
    "mydata = mydata[[\"id\",\"user_id\",\"text\", \"created_at\",\"deleted_at\", \"scammer\"]]"
   ]
  },
  {
   "cell_type": "code",
   "execution_count": 13,
   "metadata": {},
   "outputs": [
    {
     "name": "stdout",
     "output_type": "stream",
     "text": [
      "<class 'pandas.core.frame.DataFrame'>\n",
      "Int64Index: 4961 entries, 0 to 5730\n",
      "Data columns (total 6 columns):\n",
      " #   Column      Non-Null Count  Dtype \n",
      "---  ------      --------------  ----- \n",
      " 0   id          4961 non-null   object\n",
      " 1   user_id     4961 non-null   object\n",
      " 2   text        4961 non-null   object\n",
      " 3   created_at  4916 non-null   object\n",
      " 4   deleted_at  4051 non-null   object\n",
      " 5   scammer     4961 non-null   object\n",
      "dtypes: object(6)\n",
      "memory usage: 271.3+ KB\n"
     ]
    }
   ],
   "source": [
    "mydata.dropna(inplace=True, subset=['text'])\n",
    "mydata.info()"
   ]
  },
  {
   "cell_type": "code",
   "execution_count": 14,
   "metadata": {},
   "outputs": [
    {
     "data": {
      "text/plain": [
       "#NAME?                          5\n",
       "I will tell a punny dad joke    4\n",
       "(she's my niece                 2\n",
       "1840870                         1\n",
       "3872430                         1\n",
       "                               ..\n",
       "4462578                         1\n",
       "4113621                         1\n",
       "3133428                         1\n",
       "4208996                         1\n",
       "1402886                         1\n",
       "Name: id, Length: 4953, dtype: int64"
      ]
     },
     "execution_count": 14,
     "metadata": {},
     "output_type": "execute_result"
    }
   ],
   "source": [
    "#some ID values are not numeric... might need to look into that\n",
    "mydata.id.value_counts()"
   ]
  },
  {
   "cell_type": "markdown",
   "metadata": {},
   "source": [
    "## Exploring Length of Prompts"
   ]
  },
  {
   "cell_type": "code",
   "execution_count": 15,
   "metadata": {},
   "outputs": [],
   "source": [
    "mydata[\"wordcount\"] = mydata[\"text\"].apply(lambda x: len(x.split()))"
   ]
  },
  {
   "cell_type": "code",
   "execution_count": 16,
   "metadata": {},
   "outputs": [
    {
     "data": {
      "text/plain": [
       "<matplotlib.axes._subplots.AxesSubplot at 0x27a05a33490>"
      ]
     },
     "execution_count": 16,
     "metadata": {},
     "output_type": "execute_result"
    },
    {
     "data": {
      "image/png": "[encoded data removed]",
      "text/plain": [
       "<Figure size 432x288 with 1 Axes>"
      ]
     },
     "metadata": {
      "needs_background": "light"
     },
     "output_type": "display_data"
    }
   ],
   "source": [
    "sns.boxplot(x='scammer', y='wordcount',data=mydata)"
   ]
  },
  {
   "cell_type": "code",
   "execution_count": 17,
   "metadata": {},
   "outputs": [
    {
     "data": {
      "text/plain": [
       "<matplotlib.axes._subplots.AxesSubplot at 0x27a05c7fe50>"
      ]
     },
     "execution_count": 17,
     "metadata": {},
     "output_type": "execute_result"
    },
    {
     "data": {
      "image/png": "[encoded data removed]",
      "text/plain": [
       "<Figure size 432x288 with 1 Axes>"
      ]
     },
     "metadata": {
      "needs_background": "light"
     },
     "output_type": "display_data"
    }
   ],
   "source": [
    "sns.distplot(mydata[mydata['scammer']==\"No\"].wordcount, hist=False, kde=True, label=\"Not Scammer\")\n",
    "sns.distplot(mydata[mydata['scammer']==\"Yes\"].wordcount, hist=False, kde = True, label=\"Scammer\")"
   ]
  },
  {
   "cell_type": "code",
   "execution_count": 18,
   "metadata": {},
   "outputs": [
    {
     "data": {
      "text/plain": [
       "<matplotlib.axes._subplots.AxesSubplot at 0x27a05cd0100>"
      ]
     },
     "execution_count": 18,
     "metadata": {},
     "output_type": "execute_result"
    },
    {
     "data": {
      "image/png": "[encoded data removed]",
      "text/plain": [
       "<Figure size 432x288 with 1 Axes>"
      ]
     },
     "metadata": {
      "needs_background": "light"
     },
     "output_type": "display_data"
    }
   ],
   "source": [
    "sns.distplot(mydata[mydata['scammer']==\"No\"].wordcount, kde=False, label=\"Not Scammer\")\n",
    "sns.distplot(mydata[mydata['scammer']==\"Yes\"].wordcount, kde = False, label=\"Scammer\")"
   ]
  },
  {
   "cell_type": "code",
   "execution_count": null,
   "metadata": {},
   "outputs": [],
   "source": []
  },
  {
   "cell_type": "markdown",
   "metadata": {},
   "source": [
    "## SENTIMENT ANALYSIS"
   ]
  },
  {
   "cell_type": "code",
   "execution_count": 19,
   "metadata": {},
   "outputs": [],
   "source": [
    "from nltk.sentiment.vader import SentimentIntensityAnalyzer"
   ]
  },
  {
   "cell_type": "code",
   "execution_count": 20,
   "metadata": {},
   "outputs": [],
   "source": [
    "sid = SentimentIntensityAnalyzer()"
   ]
  },
  {
   "cell_type": "code",
   "execution_count": 21,
   "metadata": {},
   "outputs": [],
   "source": [
    "mydata['scores'] = mydata['text'].apply(lambda x: sid.polarity_scores(x))"
   ]
  },
  {
   "cell_type": "code",
   "execution_count": 22,
   "metadata": {},
   "outputs": [],
   "source": [
    "mydata['compound'] = mydata['scores'].apply(lambda x: x['compound'])"
   ]
  },
  {
   "cell_type": "code",
   "execution_count": 23,
   "metadata": {},
   "outputs": [
    {
     "data": {
      "text/plain": [
       "<matplotlib.axes._subplots.AxesSubplot at 0x27a05a11a60>"
      ]
     },
     "execution_count": 23,
     "metadata": {},
     "output_type": "execute_result"
    },
    {
     "data": {
      "image/png": "[encoded data removed]",
      "text/plain": [
       "<Figure size 432x288 with 1 Axes>"
      ]
     },
     "metadata": {
      "needs_background": "light"
     },
     "output_type": "display_data"
    }
   ],
   "source": [
    "sns.boxplot(x='scammer', y='compound',data=mydata)"
   ]
  },
  {
   "cell_type": "code",
   "execution_count": null,
   "metadata": {},
   "outputs": [],
   "source": []
  },
  {
   "cell_type": "markdown",
   "metadata": {},
   "source": [
    "## ADDING TOPIC LDA"
   ]
  },
  {
   "cell_type": "code",
   "execution_count": 24,
   "metadata": {},
   "outputs": [],
   "source": [
    "from sklearn.feature_extraction.text import CountVectorizer"
   ]
  },
  {
   "cell_type": "code",
   "execution_count": 25,
   "metadata": {},
   "outputs": [],
   "source": [
    "cv = CountVectorizer(max_df=0.95, min_df=2, stop_words='english')"
   ]
  },
  {
   "cell_type": "code",
   "execution_count": 26,
   "metadata": {},
   "outputs": [],
   "source": [
    "dtm = cv.fit_transform(mydata['text'])"
   ]
  },
  {
   "cell_type": "code",
   "execution_count": 27,
   "metadata": {},
   "outputs": [],
   "source": [
    "from sklearn.decomposition import LatentDirichletAllocation"
   ]
  },
  {
   "cell_type": "code",
   "execution_count": 28,
   "metadata": {},
   "outputs": [],
   "source": [
    "LDA = LatentDirichletAllocation(n_components=5,random_state=42)"
   ]
  },
  {
   "cell_type": "code",
   "execution_count": 29,
   "metadata": {},
   "outputs": [
    {
     "data": {
      "text/plain": [
       "LatentDirichletAllocation(n_components=5, random_state=42)"
      ]
     },
     "execution_count": 29,
     "metadata": {},
     "output_type": "execute_result"
    }
   ],
   "source": [
    "LDA.fit(dtm)"
   ]
  },
  {
   "cell_type": "code",
   "execution_count": 30,
   "metadata": {},
   "outputs": [
    {
     "data": {
      "text/plain": [
       "4058"
      ]
     },
     "execution_count": 30,
     "metadata": {},
     "output_type": "execute_result"
    }
   ],
   "source": [
    "len(cv.get_feature_names())"
   ]
  },
  {
   "cell_type": "code",
   "execution_count": 31,
   "metadata": {},
   "outputs": [
    {
     "name": "stdout",
     "output_type": "stream",
     "text": [
      "THE TOP 15 WORDS FOR TOPIC #0\n",
      "['people', 'love', 'looking', 'like', 'just']\n",
      "\n",
      "\n",
      "THE TOP 15 WORDS FOR TOPIC #1\n",
      "['little', 'don', 'life', 'want', 'like']\n",
      "\n",
      "\n",
      "THE TOP 15 WORDS FOR TOPIC #2\n",
      "['fun', 'enjoy', 'new', 'good', 'love']\n",
      "\n",
      "\n",
      "THE TOP 15 WORDS FOR TOPIC #3\n",
      "['loyal', 'healthy', 'romantic', 'dancing', 'love']\n",
      "\n",
      "\n",
      "THE TOP 15 WORDS FOR TOPIC #4\n",
      "['ask', 'know', 'insta', 'just', 'like']\n",
      "\n",
      "\n"
     ]
    }
   ],
   "source": [
    "for index,topic in enumerate(LDA.components_):\n",
    "    print(f'THE TOP 15 WORDS FOR TOPIC #{index}')\n",
    "    print([cv.get_feature_names()[i] for i in topic.argsort()[-5:]])\n",
    "    print('\\n')"
   ]
  },
  {
   "cell_type": "code",
   "execution_count": 32,
   "metadata": {},
   "outputs": [],
   "source": [
    "topic_results = LDA.transform(dtm)"
   ]
  },
  {
   "cell_type": "code",
   "execution_count": 33,
   "metadata": {},
   "outputs": [],
   "source": [
    "mydata['Topic'] = topic_results.argmax(axis=1)"
   ]
  },
  {
   "cell_type": "code",
   "execution_count": 34,
   "metadata": {},
   "outputs": [
    {
     "data": {
      "text/plain": [
       "2    1377\n",
       "0    1044\n",
       "4     973\n",
       "1     890\n",
       "3     677\n",
       "Name: Topic, dtype: int64"
      ]
     },
     "execution_count": 34,
     "metadata": {},
     "output_type": "execute_result"
    }
   ],
   "source": [
    "mydata['Topic'].value_counts()"
   ]
  },
  {
   "cell_type": "code",
   "execution_count": 35,
   "metadata": {},
   "outputs": [
    {
     "data": {
      "text/plain": [
       "<matplotlib.axes._subplots.AxesSubplot at 0x27a06efb6a0>"
      ]
     },
     "execution_count": 35,
     "metadata": {},
     "output_type": "execute_result"
    },
    {
     "data": {
      "image/png": "[encoded data removed]",
      "text/plain": [
       "<Figure size 432x288 with 1 Axes>"
      ]
     },
     "metadata": {
      "needs_background": "light"
     },
     "output_type": "display_data"
    }
   ],
   "source": [
    "sns.countplot(x=\"Topic\", hue=\"scammer\", data=mydata)"
   ]
  },
  {
   "cell_type": "code",
   "execution_count": 36,
   "metadata": {},
   "outputs": [],
   "source": [
    "freq = pd.crosstab(mydata[\"Topic\"],mydata[\"scammer\"])"
   ]
  },
  {
   "cell_type": "code",
   "execution_count": 37,
   "metadata": {},
   "outputs": [
    {
     "data": {
      "text/plain": [
       "<matplotlib.axes._subplots.AxesSubplot at 0x27a07fc2610>"
      ]
     },
     "execution_count": 37,
     "metadata": {},
     "output_type": "execute_result"
    },
    {
     "data": {
      "image/png": "[encoded data removed]",
      "text/plain": [
       "<Figure size 432x288 with 1 Axes>"
      ]
     },
     "metadata": {
      "needs_background": "light"
     },
     "output_type": "display_data"
    }
   ],
   "source": [
    "relative = freq.div(freq.sum(axis=1), axis=0)\n",
    "relative.plot(kind=\"bar\")"
   ]
  },
  {
   "cell_type": "code",
   "execution_count": 38,
   "metadata": {},
   "outputs": [
    {
     "data": {
      "text/plain": [
       "<matplotlib.axes._subplots.AxesSubplot at 0x27a08062b50>"
      ]
     },
     "execution_count": 38,
     "metadata": {},
     "output_type": "execute_result"
    },
    {
     "data": {
      "image/png": "[encoded data removed]",
      "text/plain": [
       "<Figure size 432x288 with 1 Axes>"
      ]
     },
     "metadata": {
      "needs_background": "light"
     },
     "output_type": "display_data"
    }
   ],
   "source": [
    "relative = freq.div(freq.sum(axis=0), axis=1)\n",
    "relative.plot(kind=\"bar\")"
   ]
  },
  {
   "cell_type": "code",
   "execution_count": null,
   "metadata": {},
   "outputs": [],
   "source": []
  },
  {
   "cell_type": "markdown",
   "metadata": {},
   "source": [
    "## TFIDF Work"
   ]
  },
  {
   "cell_type": "code",
   "execution_count": 39,
   "metadata": {},
   "outputs": [],
   "source": [
    "y = mydata[\"scammer\"]\n",
    "X = mydata[\"text\"]"
   ]
  },
  {
   "cell_type": "code",
   "execution_count": 40,
   "metadata": {},
   "outputs": [
    {
     "name": "stdout",
     "output_type": "stream",
     "text": [
      "<class 'pandas.core.frame.DataFrame'>\n",
      "Int64Index: 4961 entries, 0 to 5730\n",
      "Data columns (total 10 columns):\n",
      " #   Column      Non-Null Count  Dtype  \n",
      "---  ------      --------------  -----  \n",
      " 0   id          4961 non-null   object \n",
      " 1   user_id     4961 non-null   object \n",
      " 2   text        4961 non-null   object \n",
      " 3   created_at  4916 non-null   object \n",
      " 4   deleted_at  4051 non-null   object \n",
      " 5   scammer     4961 non-null   object \n",
      " 6   wordcount   4961 non-null   int64  \n",
      " 7   scores      4961 non-null   object \n",
      " 8   compound    4961 non-null   float64\n",
      " 9   Topic       4961 non-null   int64  \n",
      "dtypes: float64(1), int64(2), object(7)\n",
      "memory usage: 586.3+ KB\n"
     ]
    }
   ],
   "source": [
    "mydata.info()"
   ]
  },
  {
   "cell_type": "code",
   "execution_count": 41,
   "metadata": {},
   "outputs": [],
   "source": [
    "#mydata.pop('text')"
   ]
  },
  {
   "cell_type": "code",
   "execution_count": 42,
   "metadata": {},
   "outputs": [],
   "source": [
    "from sklearn.feature_extraction.text import CountVectorizer, TfidfVectorizer\n",
    "\n",
    "vect = TfidfVectorizer(sublinear_tf=False, max_df=0.95, min_df=30, analyzer='word', stop_words='english', )\n",
    "\n",
    "X = vect.fit_transform(mydata.pop('text')).toarray()\n",
    "\n",
    "for i, col in enumerate(vect.get_feature_names()):\n",
    "    mydata[col] = X[:, i]"
   ]
  },
  {
   "cell_type": "code",
   "execution_count": 43,
   "metadata": {},
   "outputs": [
    {
     "name": "stdout",
     "output_type": "stream",
     "text": [
      "<class 'pandas.core.frame.DataFrame'>\n",
      "Int64Index: 4961 entries, 0 to 5730\n",
      "Columns: 394 entries, id to zero\n",
      "dtypes: float64(386), int64(2), object(6)\n",
      "memory usage: 15.1+ MB\n"
     ]
    }
   ],
   "source": [
    "mydata.info()"
   ]
  },
  {
   "cell_type": "code",
   "execution_count": 44,
   "metadata": {},
   "outputs": [
    {
     "data": {
      "text/html": [
       "<div>\n",
       "<style scoped>\n",
       "    .dataframe tbody tr th:only-of-type {\n",
       "        vertical-align: middle;\n",
       "    }\n",
       "\n",
       "    .dataframe tbody tr th {\n",
       "        vertical-align: top;\n",
       "    }\n",
       "\n",
       "    .dataframe thead th {\n",
       "        text-align: right;\n",
       "    }\n",
       "</style>\n",
       "<table border=\"1\" class=\"dataframe\">\n",
       "  <thead>\n",
       "    <tr style=\"text-align: right;\">\n",
       "      <th></th>\n",
       "      <th>id</th>\n",
       "      <th>user_id</th>\n",
       "      <th>created_at</th>\n",
       "      <th>deleted_at</th>\n",
       "      <th>scammer</th>\n",
       "      <th>wordcount</th>\n",
       "      <th>scores</th>\n",
       "      <th>compound</th>\n",
       "      <th>Topic</th>\n",
       "      <th>10</th>\n",
       "      <th>...</th>\n",
       "      <th>words</th>\n",
       "      <th>work</th>\n",
       "      <th>working</th>\n",
       "      <th>works</th>\n",
       "      <th>world</th>\n",
       "      <th>year</th>\n",
       "      <th>years</th>\n",
       "      <th>yes</th>\n",
       "      <th>young</th>\n",
       "      <th>zero</th>\n",
       "    </tr>\n",
       "  </thead>\n",
       "  <tbody>\n",
       "    <tr>\n",
       "      <th>0</th>\n",
       "      <td>33100</td>\n",
       "      <td>3893</td>\n",
       "      <td>12/30/2016 8:09</td>\n",
       "      <td>8/20/2017 4:04</td>\n",
       "      <td>No</td>\n",
       "      <td>5</td>\n",
       "      <td>{'neg': 0.0, 'neu': 1.0, 'pos': 0.0, 'compound...</td>\n",
       "      <td>0.0000</td>\n",
       "      <td>1</td>\n",
       "      <td>0.0</td>\n",
       "      <td>...</td>\n",
       "      <td>0.0</td>\n",
       "      <td>0.0</td>\n",
       "      <td>0.0</td>\n",
       "      <td>0.0</td>\n",
       "      <td>0.000000</td>\n",
       "      <td>0.0</td>\n",
       "      <td>0.0</td>\n",
       "      <td>0.0</td>\n",
       "      <td>0.000000</td>\n",
       "      <td>0.0</td>\n",
       "    </tr>\n",
       "    <tr>\n",
       "      <th>1</th>\n",
       "      <td>324742</td>\n",
       "      <td>3893</td>\n",
       "      <td>8/20/2017 4:04</td>\n",
       "      <td>10/29/2017 1:11</td>\n",
       "      <td>No</td>\n",
       "      <td>7</td>\n",
       "      <td>{'neg': 0.0, 'neu': 0.706, 'pos': 0.294, 'comp...</td>\n",
       "      <td>0.3612</td>\n",
       "      <td>4</td>\n",
       "      <td>0.0</td>\n",
       "      <td>...</td>\n",
       "      <td>0.0</td>\n",
       "      <td>0.0</td>\n",
       "      <td>0.0</td>\n",
       "      <td>0.0</td>\n",
       "      <td>0.000000</td>\n",
       "      <td>0.0</td>\n",
       "      <td>0.0</td>\n",
       "      <td>0.0</td>\n",
       "      <td>0.000000</td>\n",
       "      <td>0.0</td>\n",
       "    </tr>\n",
       "    <tr>\n",
       "      <th>3</th>\n",
       "      <td>1663014</td>\n",
       "      <td>3893</td>\n",
       "      <td>1/6/2019 17:53</td>\n",
       "      <td>NaN</td>\n",
       "      <td>No</td>\n",
       "      <td>5</td>\n",
       "      <td>{'neg': 0.0, 'neu': 0.417, 'pos': 0.583, 'comp...</td>\n",
       "      <td>0.6369</td>\n",
       "      <td>1</td>\n",
       "      <td>0.0</td>\n",
       "      <td>...</td>\n",
       "      <td>0.0</td>\n",
       "      <td>0.0</td>\n",
       "      <td>0.0</td>\n",
       "      <td>0.0</td>\n",
       "      <td>0.000000</td>\n",
       "      <td>0.0</td>\n",
       "      <td>0.0</td>\n",
       "      <td>0.0</td>\n",
       "      <td>0.000000</td>\n",
       "      <td>0.0</td>\n",
       "    </tr>\n",
       "    <tr>\n",
       "      <th>4</th>\n",
       "      <td>4825</td>\n",
       "      <td>5099</td>\n",
       "      <td>7/31/2016 20:58</td>\n",
       "      <td>12/14/2018 16:39</td>\n",
       "      <td>No</td>\n",
       "      <td>38</td>\n",
       "      <td>{'neg': 0.0, 'neu': 0.535, 'pos': 0.465, 'comp...</td>\n",
       "      <td>0.9705</td>\n",
       "      <td>2</td>\n",
       "      <td>0.0</td>\n",
       "      <td>...</td>\n",
       "      <td>0.0</td>\n",
       "      <td>0.0</td>\n",
       "      <td>0.0</td>\n",
       "      <td>0.0</td>\n",
       "      <td>0.000000</td>\n",
       "      <td>0.0</td>\n",
       "      <td>0.0</td>\n",
       "      <td>0.0</td>\n",
       "      <td>0.000000</td>\n",
       "      <td>0.0</td>\n",
       "    </tr>\n",
       "    <tr>\n",
       "      <th>5</th>\n",
       "      <td>1575486</td>\n",
       "      <td>5099</td>\n",
       "      <td>12/14/2018 16:39</td>\n",
       "      <td>1/20/2019 22:29</td>\n",
       "      <td>No</td>\n",
       "      <td>38</td>\n",
       "      <td>{'neg': 0.0, 'neu': 0.535, 'pos': 0.465, 'comp...</td>\n",
       "      <td>0.9705</td>\n",
       "      <td>2</td>\n",
       "      <td>0.0</td>\n",
       "      <td>...</td>\n",
       "      <td>0.0</td>\n",
       "      <td>0.0</td>\n",
       "      <td>0.0</td>\n",
       "      <td>0.0</td>\n",
       "      <td>0.000000</td>\n",
       "      <td>0.0</td>\n",
       "      <td>0.0</td>\n",
       "      <td>0.0</td>\n",
       "      <td>0.000000</td>\n",
       "      <td>0.0</td>\n",
       "    </tr>\n",
       "    <tr>\n",
       "      <th>...</th>\n",
       "      <td>...</td>\n",
       "      <td>...</td>\n",
       "      <td>...</td>\n",
       "      <td>...</td>\n",
       "      <td>...</td>\n",
       "      <td>...</td>\n",
       "      <td>...</td>\n",
       "      <td>...</td>\n",
       "      <td>...</td>\n",
       "      <td>...</td>\n",
       "      <td>...</td>\n",
       "      <td>...</td>\n",
       "      <td>...</td>\n",
       "      <td>...</td>\n",
       "      <td>...</td>\n",
       "      <td>...</td>\n",
       "      <td>...</td>\n",
       "      <td>...</td>\n",
       "      <td>...</td>\n",
       "      <td>...</td>\n",
       "      <td>...</td>\n",
       "    </tr>\n",
       "    <tr>\n",
       "      <th>5725</th>\n",
       "      <td>4638172</td>\n",
       "      <td>1201743</td>\n",
       "      <td>2/7/2021 0:34</td>\n",
       "      <td>NaN</td>\n",
       "      <td>Yes</td>\n",
       "      <td>5</td>\n",
       "      <td>{'neg': 0.0, 'neu': 0.566, 'pos': 0.434, 'comp...</td>\n",
       "      <td>0.3182</td>\n",
       "      <td>2</td>\n",
       "      <td>0.0</td>\n",
       "      <td>...</td>\n",
       "      <td>0.0</td>\n",
       "      <td>0.0</td>\n",
       "      <td>0.0</td>\n",
       "      <td>0.0</td>\n",
       "      <td>0.000000</td>\n",
       "      <td>0.0</td>\n",
       "      <td>0.0</td>\n",
       "      <td>0.0</td>\n",
       "      <td>0.595103</td>\n",
       "      <td>0.0</td>\n",
       "    </tr>\n",
       "    <tr>\n",
       "      <th>5726</th>\n",
       "      <td>4640473</td>\n",
       "      <td>1202334</td>\n",
       "      <td>2/7/2021 13:31</td>\n",
       "      <td>NaN</td>\n",
       "      <td>Yes</td>\n",
       "      <td>8</td>\n",
       "      <td>{'neg': 0.0, 'neu': 1.0, 'pos': 0.0, 'compound...</td>\n",
       "      <td>0.0000</td>\n",
       "      <td>1</td>\n",
       "      <td>0.0</td>\n",
       "      <td>...</td>\n",
       "      <td>0.0</td>\n",
       "      <td>0.0</td>\n",
       "      <td>0.0</td>\n",
       "      <td>0.0</td>\n",
       "      <td>0.548535</td>\n",
       "      <td>0.0</td>\n",
       "      <td>0.0</td>\n",
       "      <td>0.0</td>\n",
       "      <td>0.000000</td>\n",
       "      <td>0.0</td>\n",
       "    </tr>\n",
       "    <tr>\n",
       "      <th>5727</th>\n",
       "      <td>4641873</td>\n",
       "      <td>1202716</td>\n",
       "      <td>2/7/2021 21:15</td>\n",
       "      <td>NaN</td>\n",
       "      <td>Yes</td>\n",
       "      <td>9</td>\n",
       "      <td>{'neg': 0.0, 'neu': 0.534, 'pos': 0.466, 'comp...</td>\n",
       "      <td>0.7269</td>\n",
       "      <td>2</td>\n",
       "      <td>0.0</td>\n",
       "      <td>...</td>\n",
       "      <td>0.0</td>\n",
       "      <td>0.0</td>\n",
       "      <td>0.0</td>\n",
       "      <td>0.0</td>\n",
       "      <td>0.000000</td>\n",
       "      <td>0.0</td>\n",
       "      <td>0.0</td>\n",
       "      <td>0.0</td>\n",
       "      <td>0.000000</td>\n",
       "      <td>0.0</td>\n",
       "    </tr>\n",
       "    <tr>\n",
       "      <th>5729</th>\n",
       "      <td>4652559</td>\n",
       "      <td>1205106</td>\n",
       "      <td>2/10/2021 7:54</td>\n",
       "      <td>2/10/2021 21:15</td>\n",
       "      <td>Yes</td>\n",
       "      <td>26</td>\n",
       "      <td>{'neg': 0.045, 'neu': 0.616, 'pos': 0.339, 'co...</td>\n",
       "      <td>0.8625</td>\n",
       "      <td>3</td>\n",
       "      <td>0.0</td>\n",
       "      <td>...</td>\n",
       "      <td>0.0</td>\n",
       "      <td>0.0</td>\n",
       "      <td>0.0</td>\n",
       "      <td>0.0</td>\n",
       "      <td>0.000000</td>\n",
       "      <td>0.0</td>\n",
       "      <td>0.0</td>\n",
       "      <td>0.0</td>\n",
       "      <td>0.000000</td>\n",
       "      <td>0.0</td>\n",
       "    </tr>\n",
       "    <tr>\n",
       "      <th>5730</th>\n",
       "      <td>4653824</td>\n",
       "      <td>1205106</td>\n",
       "      <td>2/10/2021 21:15</td>\n",
       "      <td>NaN</td>\n",
       "      <td>Yes</td>\n",
       "      <td>26</td>\n",
       "      <td>{'neg': 0.045, 'neu': 0.616, 'pos': 0.339, 'co...</td>\n",
       "      <td>0.8625</td>\n",
       "      <td>3</td>\n",
       "      <td>0.0</td>\n",
       "      <td>...</td>\n",
       "      <td>0.0</td>\n",
       "      <td>0.0</td>\n",
       "      <td>0.0</td>\n",
       "      <td>0.0</td>\n",
       "      <td>0.000000</td>\n",
       "      <td>0.0</td>\n",
       "      <td>0.0</td>\n",
       "      <td>0.0</td>\n",
       "      <td>0.000000</td>\n",
       "      <td>0.0</td>\n",
       "    </tr>\n",
       "  </tbody>\n",
       "</table>\n",
       "<p>4961 rows × 394 columns</p>\n",
       "</div>"
      ],
      "text/plain": [
       "           id  user_id        created_at        deleted_at scammer  wordcount  \\\n",
       "0       33100     3893   12/30/2016 8:09    8/20/2017 4:04      No          5   \n",
       "1      324742     3893    8/20/2017 4:04   10/29/2017 1:11      No          7   \n",
       "3     1663014     3893    1/6/2019 17:53               NaN      No          5   \n",
       "4        4825     5099   7/31/2016 20:58  12/14/2018 16:39      No         38   \n",
       "5     1575486     5099  12/14/2018 16:39   1/20/2019 22:29      No         38   \n",
       "...       ...      ...               ...               ...     ...        ...   \n",
       "5725  4638172  1201743     2/7/2021 0:34               NaN     Yes          5   \n",
       "5726  4640473  1202334    2/7/2021 13:31               NaN     Yes          8   \n",
       "5727  4641873  1202716    2/7/2021 21:15               NaN     Yes          9   \n",
       "5729  4652559  1205106    2/10/2021 7:54   2/10/2021 21:15     Yes         26   \n",
       "5730  4653824  1205106   2/10/2021 21:15               NaN     Yes         26   \n",
       "\n",
       "                                                 scores  compound  Topic   10  \\\n",
       "0     {'neg': 0.0, 'neu': 1.0, 'pos': 0.0, 'compound...    0.0000      1  0.0   \n",
       "1     {'neg': 0.0, 'neu': 0.706, 'pos': 0.294, 'comp...    0.3612      4  0.0   \n",
       "3     {'neg': 0.0, 'neu': 0.417, 'pos': 0.583, 'comp...    0.6369      1  0.0   \n",
       "4     {'neg': 0.0, 'neu': 0.535, 'pos': 0.465, 'comp...    0.9705      2  0.0   \n",
       "5     {'neg': 0.0, 'neu': 0.535, 'pos': 0.465, 'comp...    0.9705      2  0.0   \n",
       "...                                                 ...       ...    ...  ...   \n",
       "5725  {'neg': 0.0, 'neu': 0.566, 'pos': 0.434, 'comp...    0.3182      2  0.0   \n",
       "5726  {'neg': 0.0, 'neu': 1.0, 'pos': 0.0, 'compound...    0.0000      1  0.0   \n",
       "5727  {'neg': 0.0, 'neu': 0.534, 'pos': 0.466, 'comp...    0.7269      2  0.0   \n",
       "5729  {'neg': 0.045, 'neu': 0.616, 'pos': 0.339, 'co...    0.8625      3  0.0   \n",
       "5730  {'neg': 0.045, 'neu': 0.616, 'pos': 0.339, 'co...    0.8625      3  0.0   \n",
       "\n",
       "      ...  words  work  working  works     world  year  years  yes     young  \\\n",
       "0     ...    0.0   0.0      0.0    0.0  0.000000   0.0    0.0  0.0  0.000000   \n",
       "1     ...    0.0   0.0      0.0    0.0  0.000000   0.0    0.0  0.0  0.000000   \n",
       "3     ...    0.0   0.0      0.0    0.0  0.000000   0.0    0.0  0.0  0.000000   \n",
       "4     ...    0.0   0.0      0.0    0.0  0.000000   0.0    0.0  0.0  0.000000   \n",
       "5     ...    0.0   0.0      0.0    0.0  0.000000   0.0    0.0  0.0  0.000000   \n",
       "...   ...    ...   ...      ...    ...       ...   ...    ...  ...       ...   \n",
       "5725  ...    0.0   0.0      0.0    0.0  0.000000   0.0    0.0  0.0  0.595103   \n",
       "5726  ...    0.0   0.0      0.0    0.0  0.548535   0.0    0.0  0.0  0.000000   \n",
       "5727  ...    0.0   0.0      0.0    0.0  0.000000   0.0    0.0  0.0  0.000000   \n",
       "5729  ...    0.0   0.0      0.0    0.0  0.000000   0.0    0.0  0.0  0.000000   \n",
       "5730  ...    0.0   0.0      0.0    0.0  0.000000   0.0    0.0  0.0  0.000000   \n",
       "\n",
       "      zero  \n",
       "0      0.0  \n",
       "1      0.0  \n",
       "3      0.0  \n",
       "4      0.0  \n",
       "5      0.0  \n",
       "...    ...  \n",
       "5725   0.0  \n",
       "5726   0.0  \n",
       "5727   0.0  \n",
       "5729   0.0  \n",
       "5730   0.0  \n",
       "\n",
       "[4961 rows x 394 columns]"
      ]
     },
     "execution_count": 44,
     "metadata": {},
     "output_type": "execute_result"
    }
   ],
   "source": [
    "mydata"
   ]
  },
  {
   "cell_type": "code",
   "execution_count": 45,
   "metadata": {},
   "outputs": [],
   "source": [
    "mydata.to_csv(\"cleanedpromptALL.csv\")"
   ]
  }
 ],
 "metadata": {
  "kernelspec": {
   "display_name": "Python 3",
   "language": "python",
   "name": "python3"
  },
  "language_info": {
   "codemirror_mode": {
    "name": "ipython",
    "version": 3
   },
   "file_extension": ".py",
   "mimetype": "text/x-python",
   "name": "python",
   "nbconvert_exporter": "python",
   "pygments_lexer": "ipython3",
   "version": "3.8.3"
  }
 },
 "nbformat": 4,
 "nbformat_minor": 4
}
