{
 "cells": [
  {
   "cell_type": "code",
   "execution_count": 49,
   "metadata": {},
   "outputs": [],
   "source": [
    "import pandas as pd\n",
    "import numpy as np\n",
    "import matplotlib.pyplot as plt\n",
    "import operator\n",
    "import seaborn as sns"
   ]
  },
  {
   "cell_type": "markdown",
   "metadata": {},
   "source": [
    "##### read in the files to document"
   ]
  },
  {
   "cell_type": "code",
   "execution_count": 2,
   "metadata": {},
   "outputs": [],
   "source": [
    "prompt = pd.read_csv('cleanedpromptALL.csv')"
   ]
  },
  {
   "cell_type": "code",
   "execution_count": 3,
   "metadata": {},
   "outputs": [],
   "source": [
    "photo = pd.read_csv('photoALL.csv')"
   ]
  },
  {
   "cell_type": "code",
   "execution_count": 4,
   "metadata": {},
   "outputs": [],
   "source": [
    "profile = pd.read_csv('profileALL.csv')"
   ]
  },
  {
   "cell_type": "code",
   "execution_count": 5,
   "metadata": {},
   "outputs": [],
   "source": [
    "tagline = pd.read_csv('taglineALL.csv')"
   ]
  },
  {
   "cell_type": "code",
   "execution_count": 6,
   "metadata": {},
   "outputs": [],
   "source": [
    "users = pd.read_csv('userALL.csv')"
   ]
  },
  {
   "cell_type": "code",
   "execution_count": 7,
   "metadata": {},
   "outputs": [
    {
     "name": "stdout",
     "output_type": "stream",
     "text": [
      "<class 'pandas.core.frame.DataFrame'>\n",
      "RangeIndex: 4948 entries, 0 to 4947\n",
      "Columns: 394 entries, id to zero\n",
      "dtypes: float64(386), int64(4), object(4)\n",
      "memory usage: 14.9+ MB\n"
     ]
    }
   ],
   "source": [
    "prompt.info()"
   ]
  },
  {
   "cell_type": "markdown",
   "metadata": {},
   "source": [
    "##### got rid of duplicate user prompts (i.g users with many prompts)"
   ]
  },
  {
   "cell_type": "code",
   "execution_count": 8,
   "metadata": {},
   "outputs": [],
   "source": [
    "prompt = prompt[prompt['deleted_at'].isna()]"
   ]
  },
  {
   "cell_type": "code",
   "execution_count": 9,
   "metadata": {},
   "outputs": [],
   "source": [
    "prompt = prompt[['id','user_id','deleted_at','wordcount','Topic','compound','scammer']]"
   ]
  },
  {
   "cell_type": "markdown",
   "metadata": {},
   "source": [
    "##### most useful columns in profile dataset"
   ]
  },
  {
   "cell_type": "code",
   "execution_count": 10,
   "metadata": {},
   "outputs": [],
   "source": [
    "# just deleted verified from profile status to test\n",
    "profile = profile[['id','user_id','pose_id','created_at','deleted_at', 'analyze_data', 'scammer']]"
   ]
  },
  {
   "cell_type": "code",
   "execution_count": null,
   "metadata": {},
   "outputs": [],
   "source": []
  },
  {
   "cell_type": "markdown",
   "metadata": {},
   "source": [
    "##### getting rid of duplicate user ids on files that should not have more than 1"
   ]
  },
  {
   "cell_type": "code",
   "execution_count": 11,
   "metadata": {},
   "outputs": [],
   "source": [
    "nonduplicateprompt = prompt.duplicated(subset=['user_id'], keep='last')\n",
    "newprompt = prompt[list(map(operator.not_, nonduplicateprompt))]"
   ]
  },
  {
   "cell_type": "code",
   "execution_count": 12,
   "metadata": {},
   "outputs": [],
   "source": [
    "nonduplicateprofile = profile.duplicated(subset=['user_id'], keep='last')\n",
    "newprofile = profile[list(map(operator.not_, nonduplicateprofile))]"
   ]
  },
  {
   "cell_type": "code",
   "execution_count": 13,
   "metadata": {},
   "outputs": [],
   "source": [
    "from functools import reduce"
   ]
  },
  {
   "cell_type": "markdown",
   "metadata": {},
   "source": [
    "##### joining files together; left out photo and tagline for now"
   ]
  },
  {
   "cell_type": "code",
   "execution_count": 14,
   "metadata": {},
   "outputs": [],
   "source": [
    "dfs = [newprofile, users, newprompt]"
   ]
  },
  {
   "cell_type": "code",
   "execution_count": 15,
   "metadata": {},
   "outputs": [],
   "source": [
    "df_final = reduce(lambda left,right: pd.merge(left,right,on='user_id'), dfs)"
   ]
  },
  {
   "cell_type": "code",
   "execution_count": 16,
   "metadata": {},
   "outputs": [
    {
     "name": "stdout",
     "output_type": "stream",
     "text": [
      "<class 'pandas.core.frame.DataFrame'>\n",
      "Int64Index: 868 entries, 0 to 867\n",
      "Data columns (total 74 columns):\n",
      " #   Column                   Non-Null Count  Dtype  \n",
      "---  ------                   --------------  -----  \n",
      " 0   id_x                     868 non-null    int64  \n",
      " 1   user_id                  868 non-null    int64  \n",
      " 2   pose_id                  868 non-null    int64  \n",
      " 3   created_at_x             868 non-null    object \n",
      " 4   deleted_at_x             14 non-null     object \n",
      " 5   analyze_data             42 non-null     object \n",
      " 6   scammer_x                868 non-null    object \n",
      " 7   fb_id                    122 non-null    float64\n",
      " 8   gf_id                    744 non-null    object \n",
      " 9   ak_id                    2 non-null      float64\n",
      " 10  auth_type                474 non-null    object \n",
      " 11  device_token             370 non-null    object \n",
      " 12  first_name               868 non-null    object \n",
      " 13  last_name                868 non-null    object \n",
      " 14  email                    494 non-null    object \n",
      " 15  location                 730 non-null    object \n",
      " 16  locale                   117 non-null    object \n",
      " 17  lat                      760 non-null    float64\n",
      " 18  lng                      760 non-null    float64\n",
      " 19  lat_lng_updated_at       820 non-null    object \n",
      " 20  hometown                 507 non-null    object \n",
      " 21  gender                   866 non-null    object \n",
      " 22  age                      868 non-null    int64  \n",
      " 23  birthdate                780 non-null    object \n",
      " 24  language                 770 non-null    object \n",
      " 25  school                   460 non-null    object \n",
      " 26  position                 447 non-null    object \n",
      " 27  acct_status              868 non-null    object \n",
      " 28  drip_state               230 non-null    float64\n",
      " 29  gated                    868 non-null    int64  \n",
      " 30  height_ft                780 non-null    float64\n",
      " 31  height_in                780 non-null    float64\n",
      " 32  mission_location         345 non-null    object \n",
      " 33  dating_interest          868 non-null    int64  \n",
      " 34  pref_age_low             780 non-null    float64\n",
      " 35  pref_age_high            780 non-null    float64\n",
      " 36  pref_search_radius       868 non-null    int64  \n",
      " 37  created_at_y             868 non-null    object \n",
      " 38  modified_at              868 non-null    object \n",
      " 39  deleted_at_y             88 non-null     object \n",
      " 40  notif_match              868 non-null    int64  \n",
      " 41  notif_message            868 non-null    int64  \n",
      " 42  notif_reminders          868 non-null    int64  \n",
      " 43  notif_allowed            868 non-null    int64  \n",
      " 44  notif_notes              868 non-null    int64  \n",
      " 45  auto_archive_notes       868 non-null    int64  \n",
      " 46  distance_off             868 non-null    int64  \n",
      " 47  app_version              858 non-null    float64\n",
      " 48  p_note_balance           51 non-null     float64\n",
      " 49  p_enabled                868 non-null    int64  \n",
      " 50  p_double_take_last_used  286 non-null    object \n",
      " 51  p_ward_hop               868 non-null    int64  \n",
      " 52  p_ninja_mode             868 non-null    int64  \n",
      " 53  p_no_ads                 201 non-null    float64\n",
      " 54  gender_id                866 non-null    float64\n",
      " 55  acct_status_id           868 non-null    int64  \n",
      " 56  paused                   868 non-null    int64  \n",
      " 57  pref_height_min          550 non-null    float64\n",
      " 58  pref_height_max          550 non-null    float64\n",
      " 59  search_by_country        868 non-null    int64  \n",
      " 60  locality                 680 non-null    object \n",
      " 61  admin_area               727 non-null    object \n",
      " 62  country                  728 non-null    object \n",
      " 63  country_code             730 non-null    object \n",
      " 64  is_ig_connected          868 non-null    int64  \n",
      " 65  ig_token                 40 non-null     object \n",
      " 66  ig_expires_at            40 non-null     object \n",
      " 67  scammer_y                868 non-null    object \n",
      " 68  id_y                     868 non-null    int64  \n",
      " 69  deleted_at               0 non-null      object \n",
      " 70  wordcount                868 non-null    int64  \n",
      " 71  Topic                    868 non-null    int64  \n",
      " 72  compound                 868 non-null    float64\n",
      " 73  scammer                  868 non-null    object \n",
      "dtypes: float64(16), int64(24), object(34)\n",
      "memory usage: 508.6+ KB\n"
     ]
    }
   ],
   "source": [
    "df_final.info()"
   ]
  },
  {
   "cell_type": "markdown",
   "metadata": {},
   "source": [
    "##### fill in NAN values with 0s; might change to -1 (?) later"
   ]
  },
  {
   "cell_type": "code",
   "execution_count": 17,
   "metadata": {},
   "outputs": [],
   "source": [
    "df_falsefull = df_final.fillna(0)"
   ]
  },
  {
   "cell_type": "code",
   "execution_count": 18,
   "metadata": {},
   "outputs": [
    {
     "name": "stdout",
     "output_type": "stream",
     "text": [
      "<class 'pandas.core.frame.DataFrame'>\n",
      "Int64Index: 868 entries, 0 to 867\n",
      "Data columns (total 74 columns):\n",
      " #   Column                   Non-Null Count  Dtype  \n",
      "---  ------                   --------------  -----  \n",
      " 0   id_x                     868 non-null    int64  \n",
      " 1   user_id                  868 non-null    int64  \n",
      " 2   pose_id                  868 non-null    int64  \n",
      " 3   created_at_x             868 non-null    object \n",
      " 4   deleted_at_x             868 non-null    object \n",
      " 5   analyze_data             868 non-null    object \n",
      " 6   scammer_x                868 non-null    object \n",
      " 7   fb_id                    868 non-null    float64\n",
      " 8   gf_id                    868 non-null    object \n",
      " 9   ak_id                    868 non-null    float64\n",
      " 10  auth_type                868 non-null    object \n",
      " 11  device_token             868 non-null    object \n",
      " 12  first_name               868 non-null    object \n",
      " 13  last_name                868 non-null    object \n",
      " 14  email                    868 non-null    object \n",
      " 15  location                 868 non-null    object \n",
      " 16  locale                   868 non-null    object \n",
      " 17  lat                      868 non-null    float64\n",
      " 18  lng                      868 non-null    float64\n",
      " 19  lat_lng_updated_at       868 non-null    object \n",
      " 20  hometown                 868 non-null    object \n",
      " 21  gender                   868 non-null    object \n",
      " 22  age                      868 non-null    int64  \n",
      " 23  birthdate                868 non-null    object \n",
      " 24  language                 868 non-null    object \n",
      " 25  school                   868 non-null    object \n",
      " 26  position                 868 non-null    object \n",
      " 27  acct_status              868 non-null    object \n",
      " 28  drip_state               868 non-null    float64\n",
      " 29  gated                    868 non-null    int64  \n",
      " 30  height_ft                868 non-null    float64\n",
      " 31  height_in                868 non-null    float64\n",
      " 32  mission_location         868 non-null    object \n",
      " 33  dating_interest          868 non-null    int64  \n",
      " 34  pref_age_low             868 non-null    float64\n",
      " 35  pref_age_high            868 non-null    float64\n",
      " 36  pref_search_radius       868 non-null    int64  \n",
      " 37  created_at_y             868 non-null    object \n",
      " 38  modified_at              868 non-null    object \n",
      " 39  deleted_at_y             868 non-null    object \n",
      " 40  notif_match              868 non-null    int64  \n",
      " 41  notif_message            868 non-null    int64  \n",
      " 42  notif_reminders          868 non-null    int64  \n",
      " 43  notif_allowed            868 non-null    int64  \n",
      " 44  notif_notes              868 non-null    int64  \n",
      " 45  auto_archive_notes       868 non-null    int64  \n",
      " 46  distance_off             868 non-null    int64  \n",
      " 47  app_version              868 non-null    float64\n",
      " 48  p_note_balance           868 non-null    float64\n",
      " 49  p_enabled                868 non-null    int64  \n",
      " 50  p_double_take_last_used  868 non-null    object \n",
      " 51  p_ward_hop               868 non-null    int64  \n",
      " 52  p_ninja_mode             868 non-null    int64  \n",
      " 53  p_no_ads                 868 non-null    float64\n",
      " 54  gender_id                868 non-null    float64\n",
      " 55  acct_status_id           868 non-null    int64  \n",
      " 56  paused                   868 non-null    int64  \n",
      " 57  pref_height_min          868 non-null    float64\n",
      " 58  pref_height_max          868 non-null    float64\n",
      " 59  search_by_country        868 non-null    int64  \n",
      " 60  locality                 868 non-null    object \n",
      " 61  admin_area               868 non-null    object \n",
      " 62  country                  868 non-null    object \n",
      " 63  country_code             868 non-null    object \n",
      " 64  is_ig_connected          868 non-null    int64  \n",
      " 65  ig_token                 868 non-null    object \n",
      " 66  ig_expires_at            868 non-null    object \n",
      " 67  scammer_y                868 non-null    object \n",
      " 68  id_y                     868 non-null    int64  \n",
      " 69  deleted_at               868 non-null    int64  \n",
      " 70  wordcount                868 non-null    int64  \n",
      " 71  Topic                    868 non-null    int64  \n",
      " 72  compound                 868 non-null    float64\n",
      " 73  scammer                  868 non-null    object \n",
      "dtypes: float64(16), int64(25), object(33)\n",
      "memory usage: 508.6+ KB\n"
     ]
    }
   ],
   "source": [
    "df_falsefull.info()"
   ]
  },
  {
   "cell_type": "markdown",
   "metadata": {},
   "source": [
    "##### grabbing columns that can be used for random forests (no complicated string data used)"
   ]
  },
  {
   "cell_type": "code",
   "execution_count": 19,
   "metadata": {},
   "outputs": [],
   "source": [
    "mycolumns = df_falsefull.describe().columns"
   ]
  },
  {
   "cell_type": "code",
   "execution_count": 20,
   "metadata": {},
   "outputs": [
    {
     "data": {
      "text/plain": [
       "Index(['id_x', 'user_id', 'pose_id', 'fb_id', 'ak_id', 'lat', 'lng', 'age',\n",
       "       'drip_state', 'gated', 'height_ft', 'height_in', 'dating_interest',\n",
       "       'pref_age_low', 'pref_age_high', 'pref_search_radius', 'notif_match',\n",
       "       'notif_message', 'notif_reminders', 'notif_allowed', 'notif_notes',\n",
       "       'auto_archive_notes', 'distance_off', 'app_version', 'p_note_balance',\n",
       "       'p_enabled', 'p_ward_hop', 'p_ninja_mode', 'p_no_ads', 'gender_id',\n",
       "       'acct_status_id', 'paused', 'pref_height_min', 'pref_height_max',\n",
       "       'search_by_country', 'is_ig_connected', 'id_y', 'deleted_at',\n",
       "       'wordcount', 'Topic', 'compound'],\n",
       "      dtype='object')"
      ]
     },
     "execution_count": 20,
     "metadata": {},
     "output_type": "execute_result"
    }
   ],
   "source": [
    "mycolumns"
   ]
  },
  {
   "cell_type": "code",
   "execution_count": 21,
   "metadata": {},
   "outputs": [],
   "source": [
    "# 'acct_status_id', 'drip_state','app_version','notif_allowed'"
   ]
  },
  {
   "cell_type": "code",
   "execution_count": 22,
   "metadata": {},
   "outputs": [],
   "source": [
    "mycolumns = mycolumns.drop(['id_x','user_id','acct_status_id', 'drip_state','app_version','notif_allowed'])"
   ]
  },
  {
   "cell_type": "code",
   "execution_count": 23,
   "metadata": {},
   "outputs": [],
   "source": [
    "from sklearn.ensemble import RandomForestClassifier\n",
    "from sklearn.model_selection import train_test_split"
   ]
  },
  {
   "cell_type": "code",
   "execution_count": null,
   "metadata": {},
   "outputs": [],
   "source": []
  },
  {
   "cell_type": "code",
   "execution_count": 24,
   "metadata": {},
   "outputs": [],
   "source": [
    "y = df_falsefull['scammer']"
   ]
  },
  {
   "cell_type": "code",
   "execution_count": 25,
   "metadata": {},
   "outputs": [],
   "source": [
    "X = df_falsefull[mycolumns]"
   ]
  },
  {
   "cell_type": "markdown",
   "metadata": {},
   "source": [
    "##### double checking no duplicate user rows (868 unique users)"
   ]
  },
  {
   "cell_type": "code",
   "execution_count": 26,
   "metadata": {},
   "outputs": [
    {
     "data": {
      "text/plain": [
       "927739     1\n",
       "1015731    1\n",
       "1012292    1\n",
       "479916     1\n",
       "1120713    1\n",
       "          ..\n",
       "1146199    1\n",
       "1089775    1\n",
       "529743     1\n",
       "947533     1\n",
       "45056      1\n",
       "Name: user_id, Length: 868, dtype: int64"
      ]
     },
     "execution_count": 26,
     "metadata": {},
     "output_type": "execute_result"
    }
   ],
   "source": [
    "df_falsefull.user_id.value_counts()"
   ]
  },
  {
   "cell_type": "markdown",
   "metadata": {},
   "source": [
    "##### begin training model"
   ]
  },
  {
   "cell_type": "code",
   "execution_count": 27,
   "metadata": {},
   "outputs": [],
   "source": [
    "X_train, X_test, y_train, y_test = train_test_split(X, y, test_size=0.60, random_state=42)"
   ]
  },
  {
   "cell_type": "code",
   "execution_count": 28,
   "metadata": {},
   "outputs": [],
   "source": [
    "mytrees = RandomForestClassifier(min_samples_leaf = 20, random_state=101)"
   ]
  },
  {
   "cell_type": "code",
   "execution_count": 29,
   "metadata": {},
   "outputs": [
    {
     "data": {
      "text/plain": [
       "RandomForestClassifier(min_samples_leaf=20, random_state=101)"
      ]
     },
     "execution_count": 29,
     "metadata": {},
     "output_type": "execute_result"
    }
   ],
   "source": [
    "mytrees.fit(X_train, y_train)"
   ]
  },
  {
   "cell_type": "markdown",
   "metadata": {},
   "source": [
    "##### predicting probabilities for ROC curve"
   ]
  },
  {
   "cell_type": "code",
   "execution_count": 30,
   "metadata": {},
   "outputs": [],
   "source": [
    "rf_proba = mytrees.predict_proba(X_test)"
   ]
  },
  {
   "cell_type": "code",
   "execution_count": 31,
   "metadata": {},
   "outputs": [
    {
     "data": {
      "text/plain": [
       "array([[0.2464978 , 0.7535022 ],\n",
       "       [0.25955697, 0.74044303],\n",
       "       [0.90675534, 0.09324466],\n",
       "       ...,\n",
       "       [0.71509111, 0.28490889],\n",
       "       [0.74629171, 0.25370829],\n",
       "       [0.96710461, 0.03289539]])"
      ]
     },
     "execution_count": 31,
     "metadata": {},
     "output_type": "execute_result"
    }
   ],
   "source": [
    "rf_proba"
   ]
  },
  {
   "cell_type": "code",
   "execution_count": 32,
   "metadata": {},
   "outputs": [],
   "source": [
    "booly_test = y_test.apply(lambda x: x == 'Yes')\n",
    "newy_test = booly_test.astype(int)"
   ]
  },
  {
   "cell_type": "code",
   "execution_count": null,
   "metadata": {},
   "outputs": [],
   "source": []
  },
  {
   "cell_type": "code",
   "execution_count": 33,
   "metadata": {},
   "outputs": [],
   "source": [
    "#booly_test"
   ]
  },
  {
   "cell_type": "code",
   "execution_count": 34,
   "metadata": {},
   "outputs": [],
   "source": [
    "#newy_test"
   ]
  },
  {
   "cell_type": "code",
   "execution_count": 35,
   "metadata": {},
   "outputs": [],
   "source": [
    "from sklearn.metrics import classification_report, roc_curve, confusion_matrix, ConfusionMatrixDisplay"
   ]
  },
  {
   "cell_type": "code",
   "execution_count": 36,
   "metadata": {},
   "outputs": [
    {
     "data": {
      "text/plain": [
       "array([[0.2464978 , 0.7535022 ],\n",
       "       [0.25955697, 0.74044303],\n",
       "       [0.90675534, 0.09324466],\n",
       "       ...,\n",
       "       [0.71509111, 0.28490889],\n",
       "       [0.74629171, 0.25370829],\n",
       "       [0.96710461, 0.03289539]])"
      ]
     },
     "execution_count": 36,
     "metadata": {},
     "output_type": "execute_result"
    }
   ],
   "source": [
    "rf_proba"
   ]
  },
  {
   "cell_type": "code",
   "execution_count": 37,
   "metadata": {},
   "outputs": [
    {
     "data": {
      "image/png": "[encoded data removed]",
      "text/plain": [
       "<Figure size 432x288 with 1 Axes>"
      ]
     },
     "metadata": {
      "needs_background": "light"
     },
     "output_type": "display_data"
    }
   ],
   "source": [
    "y_pred_rf = rf_proba[:, 1]\n",
    "fpr_rf, tpr_rf, _ = roc_curve(newy_test, y_pred_rf)\n",
    "\n",
    "plt.figure(1)\n",
    "plt.plot(fpr_rf, tpr_rf, label='RF')\n",
    "plt.xlabel('False positive rate')\n",
    "plt.ylabel('True positive rate')\n",
    "plt.title('ROC curve')\n",
    "plt.legend(loc='best')\n",
    "plt.show()"
   ]
  },
  {
   "cell_type": "markdown",
   "metadata": {},
   "source": [
    "##### Converting probabilities into values ( "
   ]
  },
  {
   "cell_type": "code",
   "execution_count": 38,
   "metadata": {},
   "outputs": [],
   "source": [
    "my_predictions = pd.Series(rf_proba[:, 1]).apply(lambda x: 'Yes' if (x > .7) else 'No')"
   ]
  },
  {
   "cell_type": "code",
   "execution_count": 39,
   "metadata": {},
   "outputs": [
    {
     "name": "stdout",
     "output_type": "stream",
     "text": [
      "[[252   8]\n",
      " [ 90 171]]\n"
     ]
    }
   ],
   "source": [
    "print(confusion_matrix(y_test, my_predictions))"
   ]
  },
  {
   "cell_type": "code",
   "execution_count": 40,
   "metadata": {},
   "outputs": [
    {
     "name": "stdout",
     "output_type": "stream",
     "text": [
      "              precision    recall  f1-score   support\n",
      "\n",
      "          No       0.74      0.97      0.84       260\n",
      "         Yes       0.96      0.66      0.78       261\n",
      "\n",
      "    accuracy                           0.81       521\n",
      "   macro avg       0.85      0.81      0.81       521\n",
      "weighted avg       0.85      0.81      0.81       521\n",
      "\n"
     ]
    }
   ],
   "source": [
    "print(classification_report(y_test, my_predictions))"
   ]
  },
  {
   "cell_type": "code",
   "execution_count": 41,
   "metadata": {},
   "outputs": [],
   "source": [
    "importances = mytrees.feature_importances_\n",
    "#\n",
    "# Sort the feature importance in descending order\n",
    "#\n",
    "sorted_indices = np.argsort(importances)[::-1]"
   ]
  },
  {
   "cell_type": "code",
   "execution_count": 42,
   "metadata": {},
   "outputs": [],
   "source": [
    "newsorted = sorted_indices[0:20]"
   ]
  },
  {
   "cell_type": "code",
   "execution_count": 43,
   "metadata": {},
   "outputs": [
    {
     "data": {
      "text/plain": [
       "array([1.76985583e-01, 1.29216006e-01, 1.28298133e-01, 1.15536821e-01,\n",
       "       1.15483517e-01, 9.31190204e-02, 6.73240006e-02, 4.52204629e-02,\n",
       "       4.07669345e-02, 2.21191840e-02, 1.54002021e-02, 1.48965242e-02,\n",
       "       8.26318367e-03, 7.83099991e-03, 7.41568532e-03, 6.02993275e-03,\n",
       "       4.60588498e-03, 1.15707359e-03, 1.83367676e-04, 1.45149974e-04])"
      ]
     },
     "execution_count": 43,
     "metadata": {},
     "output_type": "execute_result"
    }
   ],
   "source": [
    "importances[newsorted]"
   ]
  },
  {
   "cell_type": "code",
   "execution_count": 44,
   "metadata": {},
   "outputs": [
    {
     "data": {
      "text/plain": [
       "Index(['age', 'pref_age_high', 'dating_interest', 'pref_age_low', 'lng',\n",
       "       'pref_search_radius', 'lat', 'id_y', 'height_ft', 'wordcount',\n",
       "       'pref_height_max', 'height_in', 'pref_height_min', 'notif_reminders',\n",
       "       'gender_id', 'Topic', 'compound', 'pose_id', 'distance_off', 'fb_id'],\n",
       "      dtype='object')"
      ]
     },
     "execution_count": 44,
     "metadata": {},
     "output_type": "execute_result"
    }
   ],
   "source": [
    "X_train.columns[newsorted]"
   ]
  },
  {
   "cell_type": "code",
   "execution_count": 45,
   "metadata": {},
   "outputs": [],
   "source": [
    "feature_importances = pd.DataFrame(mytrees.feature_importances_, \\\n",
    "                                   index =X_train.columns,  \\\n",
    "                                   columns=['importance']).sort_values('importance', ascending=False)"
   ]
  },
  {
   "cell_type": "code",
   "execution_count": 46,
   "metadata": {
    "scrolled": true
   },
   "outputs": [
    {
     "data": {
      "text/html": [
       "<div>\n",
       "<style scoped>\n",
       "    .dataframe tbody tr th:only-of-type {\n",
       "        vertical-align: middle;\n",
       "    }\n",
       "\n",
       "    .dataframe tbody tr th {\n",
       "        vertical-align: top;\n",
       "    }\n",
       "\n",
       "    .dataframe thead th {\n",
       "        text-align: right;\n",
       "    }\n",
       "</style>\n",
       "<table border=\"1\" class=\"dataframe\">\n",
       "  <thead>\n",
       "    <tr style=\"text-align: right;\">\n",
       "      <th></th>\n",
       "      <th>importance</th>\n",
       "    </tr>\n",
       "  </thead>\n",
       "  <tbody>\n",
       "    <tr>\n",
       "      <th>age</th>\n",
       "      <td>0.176986</td>\n",
       "    </tr>\n",
       "    <tr>\n",
       "      <th>pref_age_high</th>\n",
       "      <td>0.129216</td>\n",
       "    </tr>\n",
       "    <tr>\n",
       "      <th>dating_interest</th>\n",
       "      <td>0.128298</td>\n",
       "    </tr>\n",
       "    <tr>\n",
       "      <th>pref_age_low</th>\n",
       "      <td>0.115537</td>\n",
       "    </tr>\n",
       "    <tr>\n",
       "      <th>lng</th>\n",
       "      <td>0.115484</td>\n",
       "    </tr>\n",
       "    <tr>\n",
       "      <th>pref_search_radius</th>\n",
       "      <td>0.093119</td>\n",
       "    </tr>\n",
       "    <tr>\n",
       "      <th>lat</th>\n",
       "      <td>0.067324</td>\n",
       "    </tr>\n",
       "    <tr>\n",
       "      <th>id_y</th>\n",
       "      <td>0.045220</td>\n",
       "    </tr>\n",
       "    <tr>\n",
       "      <th>height_ft</th>\n",
       "      <td>0.040767</td>\n",
       "    </tr>\n",
       "    <tr>\n",
       "      <th>wordcount</th>\n",
       "      <td>0.022119</td>\n",
       "    </tr>\n",
       "    <tr>\n",
       "      <th>pref_height_max</th>\n",
       "      <td>0.015400</td>\n",
       "    </tr>\n",
       "    <tr>\n",
       "      <th>height_in</th>\n",
       "      <td>0.014897</td>\n",
       "    </tr>\n",
       "    <tr>\n",
       "      <th>pref_height_min</th>\n",
       "      <td>0.008263</td>\n",
       "    </tr>\n",
       "    <tr>\n",
       "      <th>notif_reminders</th>\n",
       "      <td>0.007831</td>\n",
       "    </tr>\n",
       "    <tr>\n",
       "      <th>gender_id</th>\n",
       "      <td>0.007416</td>\n",
       "    </tr>\n",
       "    <tr>\n",
       "      <th>Topic</th>\n",
       "      <td>0.006030</td>\n",
       "    </tr>\n",
       "    <tr>\n",
       "      <th>compound</th>\n",
       "      <td>0.004606</td>\n",
       "    </tr>\n",
       "    <tr>\n",
       "      <th>pose_id</th>\n",
       "      <td>0.001157</td>\n",
       "    </tr>\n",
       "    <tr>\n",
       "      <th>distance_off</th>\n",
       "      <td>0.000183</td>\n",
       "    </tr>\n",
       "    <tr>\n",
       "      <th>fb_id</th>\n",
       "      <td>0.000145</td>\n",
       "    </tr>\n",
       "  </tbody>\n",
       "</table>\n",
       "</div>"
      ],
      "text/plain": [
       "                    importance\n",
       "age                   0.176986\n",
       "pref_age_high         0.129216\n",
       "dating_interest       0.128298\n",
       "pref_age_low          0.115537\n",
       "lng                   0.115484\n",
       "pref_search_radius    0.093119\n",
       "lat                   0.067324\n",
       "id_y                  0.045220\n",
       "height_ft             0.040767\n",
       "wordcount             0.022119\n",
       "pref_height_max       0.015400\n",
       "height_in             0.014897\n",
       "pref_height_min       0.008263\n",
       "notif_reminders       0.007831\n",
       "gender_id             0.007416\n",
       "Topic                 0.006030\n",
       "compound              0.004606\n",
       "pose_id               0.001157\n",
       "distance_off          0.000183\n",
       "fb_id                 0.000145"
      ]
     },
     "execution_count": 46,
     "metadata": {},
     "output_type": "execute_result"
    }
   ],
   "source": [
    "feature_importances.head(20)"
   ]
  },
  {
   "cell_type": "code",
   "execution_count": 47,
   "metadata": {},
   "outputs": [
    {
     "data": {
      "image/png": "[encoded data removed]",
      "text/plain": [
       "<Figure size 576x432 with 1 Axes>"
      ]
     },
     "metadata": {
      "needs_background": "light"
     },
     "output_type": "display_data"
    }
   ],
   "source": [
    "import matplotlib.pyplot as plt\n",
    "plt.figure(figsize=(8,6))\n",
    "plt.title('Feature Importance')\n",
    "plt.bar(range(X_train.shape[1]), importances[sorted_indices], align='center')\n",
    "plt.xticks(range(X_train.shape[1]), X_train.columns[sorted_indices], rotation=90)\n",
    "plt.tight_layout()\n",
    "plt.show()"
   ]
  },
  {
   "cell_type": "markdown",
   "metadata": {},
   "source": [
    "import matplotlib.pyplot as plt\n",
    "\n",
    "plt.title('Feature Importance')\n",
    "plt.bar(range(21), importances[newsorted], align='center')\n",
    "plt.xticks(range(21), X_train.columns[newsorted], rotation=90)\n",
    "plt.tight_layout()\n",
    "plt.show()"
   ]
  },
  {
   "cell_type": "code",
   "execution_count": 48,
   "metadata": {},
   "outputs": [
    {
     "data": {
      "text/plain": [
       "<sklearn.metrics._plot.confusion_matrix.ConfusionMatrixDisplay at 0x1e9bcfe4f10>"
      ]
     },
     "execution_count": 48,
     "metadata": {},
     "output_type": "execute_result"
    },
    {
     "data": {
      "image/png": "[encoded data removed]",
      "text/plain": [
       "<Figure size 432x288 with 2 Axes>"
      ]
     },
     "metadata": {
      "needs_background": "light"
     },
     "output_type": "display_data"
    }
   ],
   "source": [
    "cm = confusion_matrix(y_test, my_predictions)\n",
    "disp = ConfusionMatrixDisplay(confusion_matrix=cm)\n",
    "disp.plot() "
   ]
  },
  {
   "cell_type": "code",
   "execution_count": 51,
   "metadata": {},
   "outputs": [
    {
     "data": {
      "text/plain": [
       "<matplotlib.axes._subplots.AxesSubplot at 0x1e9be26af40>"
      ]
     },
     "execution_count": 51,
     "metadata": {},
     "output_type": "execute_result"
    },
    {
     "data": {
      "image/png": "[encoded data removed]",
      "text/plain": [
       "<Figure size 432x288 with 1 Axes>"
      ]
     },
     "metadata": {
      "needs_background": "light"
     },
     "output_type": "display_data"
    }
   ],
   "source": [
    "sns.boxplot(df_falsefull['scammer'],df_falsefull['age'])"
   ]
  },
  {
   "cell_type": "code",
   "execution_count": 52,
   "metadata": {},
   "outputs": [
    {
     "data": {
      "text/plain": [
       "<matplotlib.axes._subplots.AxesSubplot at 0x1e9bfb69cd0>"
      ]
     },
     "execution_count": 52,
     "metadata": {},
     "output_type": "execute_result"
    },
    {
     "data": {
      "image/png": "[encoded data removed]",
      "text/plain": [
       "<Figure size 432x288 with 1 Axes>"
      ]
     },
     "metadata": {
      "needs_background": "light"
     },
     "output_type": "display_data"
    }
   ],
   "source": [
    "sns.boxplot(df_falsefull['scammer'],df_falsefull['pref_age_high'])"
   ]
  },
  {
   "cell_type": "code",
   "execution_count": 53,
   "metadata": {},
   "outputs": [
    {
     "data": {
      "text/plain": [
       "<matplotlib.axes._subplots.AxesSubplot at 0x1e9c01d5f40>"
      ]
     },
     "execution_count": 53,
     "metadata": {},
     "output_type": "execute_result"
    },
    {
     "data": {
      "image/png": "[encoded data removed]",
      "text/plain": [
       "<Figure size 432x288 with 1 Axes>"
      ]
     },
     "metadata": {
      "needs_background": "light"
     },
     "output_type": "display_data"
    }
   ],
   "source": [
    "sns.boxplot(df_falsefull['scammer'],df_falsefull['dating_interest'])"
   ]
  },
  {
   "cell_type": "code",
   "execution_count": 54,
   "metadata": {},
   "outputs": [
    {
     "data": {
      "text/plain": [
       "<matplotlib.axes._subplots.AxesSubplot at 0x1e9c021a670>"
      ]
     },
     "execution_count": 54,
     "metadata": {},
     "output_type": "execute_result"
    },
    {
     "data": {
      "image/png": "[encoded data removed]",
      "text/plain": [
       "<Figure size 432x288 with 1 Axes>"
      ]
     },
     "metadata": {
      "needs_background": "light"
     },
     "output_type": "display_data"
    }
   ],
   "source": [
    "sns.boxplot(df_falsefull['scammer'],df_falsefull['pref_search_radius'])"
   ]
  },
  {
   "cell_type": "code",
   "execution_count": 56,
   "metadata": {},
   "outputs": [
    {
     "data": {
      "text/plain": [
       "<matplotlib.axes._subplots.AxesSubplot at 0x1e9c0652b50>"
      ]
     },
     "execution_count": 56,
     "metadata": {},
     "output_type": "execute_result"
    },
    {
     "data": {
      "image/png": "[encoded data removed]",
      "text/plain": [
       "<Figure size 432x288 with 1 Axes>"
      ]
     },
     "metadata": {
      "needs_background": "light"
     },
     "output_type": "display_data"
    }
   ],
   "source": [
    "sns.scatterplot(df_falsefull['lat'],df_falsefull['lng'], hue=df_falsefull['scammer'])"
   ]
  }
 ],
 "metadata": {
  "kernelspec": {
   "display_name": "Python 3",
   "language": "python",
   "name": "python3"
  },
  "language_info": {
   "codemirror_mode": {
    "name": "ipython",
    "version": 3
   },
   "file_extension": ".py",
   "mimetype": "text/x-python",
   "name": "python",
   "nbconvert_exporter": "python",
   "pygments_lexer": "ipython3",
   "version": "3.8.3"
  }
 },
 "nbformat": 4,
 "nbformat_minor": 4
}
